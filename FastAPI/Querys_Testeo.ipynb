{
 "cells": [
  {
   "attachments": {},
   "cell_type": "markdown",
   "metadata": {},
   "source": [
    "### Testeo de las funciones que realizaran las consultas en nuestra api"
   ]
  },
  {
   "cell_type": "code",
   "execution_count": 1,
   "metadata": {},
   "outputs": [],
   "source": [
    "import pandas as pd\n",
    "import numpy as np "
   ]
  },
  {
   "cell_type": "code",
   "execution_count": 2,
   "metadata": {},
   "outputs": [
    {
     "data": {
      "text/html": [
       "<div>\n",
       "<style scoped>\n",
       "    .dataframe tbody tr th:only-of-type {\n",
       "        vertical-align: middle;\n",
       "    }\n",
       "\n",
       "    .dataframe tbody tr th {\n",
       "        vertical-align: top;\n",
       "    }\n",
       "\n",
       "    .dataframe thead th {\n",
       "        text-align: right;\n",
       "    }\n",
       "</style>\n",
       "<table border=\"1\" class=\"dataframe\">\n",
       "  <thead>\n",
       "    <tr style=\"text-align: right;\">\n",
       "      <th></th>\n",
       "      <th>id</th>\n",
       "      <th>type</th>\n",
       "      <th>title</th>\n",
       "      <th>director</th>\n",
       "      <th>cast</th>\n",
       "      <th>country</th>\n",
       "      <th>date_added</th>\n",
       "      <th>release_year</th>\n",
       "      <th>rating</th>\n",
       "      <th>listed_in</th>\n",
       "      <th>description</th>\n",
       "      <th>duration_int</th>\n",
       "      <th>duration_type</th>\n",
       "      <th>Plataforma</th>\n",
       "      <th>movieId</th>\n",
       "      <th>score(prom)</th>\n",
       "    </tr>\n",
       "  </thead>\n",
       "  <tbody>\n",
       "    <tr>\n",
       "      <th>0</th>\n",
       "      <td>as1</td>\n",
       "      <td>movie</td>\n",
       "      <td>the grand seduction</td>\n",
       "      <td>don mckellar</td>\n",
       "      <td>brendan gleeson, taylor kitsch, gordon pinsent</td>\n",
       "      <td>canada</td>\n",
       "      <td>2021-03-30 00:00:00</td>\n",
       "      <td>2014</td>\n",
       "      <td>g</td>\n",
       "      <td>comedy, drama</td>\n",
       "      <td>a small fishing village must procure a local d...</td>\n",
       "      <td>113</td>\n",
       "      <td>min</td>\n",
       "      <td>Amazon</td>\n",
       "      <td>as1</td>\n",
       "      <td>3.467131</td>\n",
       "    </tr>\n",
       "  </tbody>\n",
       "</table>\n",
       "</div>"
      ],
      "text/plain": [
       "    id   type                title      director  \\\n",
       "0  as1  movie  the grand seduction  don mckellar   \n",
       "\n",
       "                                             cast country  \\\n",
       "0  brendan gleeson, taylor kitsch, gordon pinsent  canada   \n",
       "\n",
       "            date_added  release_year rating      listed_in  \\\n",
       "0  2021-03-30 00:00:00          2014      g  comedy, drama   \n",
       "\n",
       "                                         description  duration_int  \\\n",
       "0  a small fishing village must procure a local d...           113   \n",
       "\n",
       "  duration_type Plataforma movieId  score(prom)  \n",
       "0           min     Amazon     as1     3.467131  "
      ]
     },
     "execution_count": 2,
     "metadata": {},
     "output_type": "execute_result"
    }
   ],
   "source": [
    "movie_df = pd.read_csv('movie_set.csv')\n",
    "movie_df.head(1)"
   ]
  },
  {
   "cell_type": "code",
   "execution_count": 3,
   "metadata": {},
   "outputs": [
    {
     "data": {
      "text/plain": [
       "(22998, 16)"
      ]
     },
     "execution_count": 3,
     "metadata": {},
     "output_type": "execute_result"
    }
   ],
   "source": [
    "movie_df.shape"
   ]
  },
  {
   "cell_type": "code",
   "execution_count": 4,
   "metadata": {},
   "outputs": [
    {
     "name": "stdout",
     "output_type": "stream",
     "text": [
      "<class 'pandas.core.frame.DataFrame'>\n",
      "RangeIndex: 22998 entries, 0 to 22997\n",
      "Data columns (total 16 columns):\n",
      " #   Column         Non-Null Count  Dtype  \n",
      "---  ------         --------------  -----  \n",
      " 0   id             22998 non-null  object \n",
      " 1   type           22998 non-null  object \n",
      " 2   title          22998 non-null  object \n",
      " 3   director       22998 non-null  object \n",
      " 4   cast           22998 non-null  object \n",
      " 5   country        22998 non-null  object \n",
      " 6   date_added     22998 non-null  object \n",
      " 7   release_year   22998 non-null  int64  \n",
      " 8   rating         22998 non-null  object \n",
      " 9   listed_in      22998 non-null  object \n",
      " 10  description    22998 non-null  object \n",
      " 11  duration_int   22998 non-null  int64  \n",
      " 12  duration_type  22998 non-null  object \n",
      " 13  Plataforma     22998 non-null  object \n",
      " 14  movieId        22998 non-null  object \n",
      " 15  score(prom)    22998 non-null  float64\n",
      "dtypes: float64(1), int64(2), object(13)\n",
      "memory usage: 2.8+ MB\n"
     ]
    }
   ],
   "source": [
    "movie_df.info()"
   ]
  },
  {
   "attachments": {},
   "cell_type": "markdown",
   "metadata": {},
   "source": [
    "Película con mayor duración con filtros opcionales de AÑO, PLATAFORMA Y TIPO DE DURACIÓN. (la función debe llamarse get_max_duration(year, platform, duration_type))"
   ]
  },
  {
   "cell_type": "code",
   "execution_count": 5,
   "metadata": {},
   "outputs": [],
   "source": [
    "def get_max_duration(anio:int,plataforma:str,min_o_season:str):\n",
    "    #colocamos dentro de una variable llamada result, el resultado de buscar un año y la plataforma\n",
    "    movie_df_filtrado = movie_df[(movie_df['release_year']==anio) & (movie_df['Plataforma']==plataforma)]\n",
    "    #ahora dentro del if, la función toma en cuenta si se ingresa como parámetro la palabra \"min\" o \"seasons\", para ver si se quiere buscar una serie o una película\n",
    "    if min_o_season == 'min':\n",
    "    #dentro de a se va guardando en resultado maximo de la columna correspondiente a min, lo cual va llenando una lista para luego devolver la de mayor duración en esa plataforma y en ese año\n",
    "        a = movie_df_filtrado['duration_int'].max()\n",
    "        name = movie_df_filtrado[movie_df_filtrado['duration_int']==a] ['title']\n",
    "        name = name.to_list()\n",
    "        name = name[0]\n",
    "    else:\n",
    "        a = movie_df_filtrado['season'].max()\n",
    "        #dentro de a se va guardando en resultado maximo de la columna correspondiente a seasons, lo cual va llenando una lista para luego devolver la de mayor duración en esa plataforma y en ese año\n",
    "        name = movie_df_filtrado[movie_df_filtrado['season']==a] ['title']\n",
    "        name = name.to_list()\n",
    "        name = name[0]\n",
    "    return name"
   ]
  },
  {
   "cell_type": "code",
   "execution_count": 6,
   "metadata": {},
   "outputs": [
    {
     "data": {
      "text/plain": [
       "'soothing surf at del norte for sleep black screen'"
      ]
     },
     "execution_count": 6,
     "metadata": {},
     "output_type": "execute_result"
    }
   ],
   "source": [
    "get_max_duration(2018,'Amazon','min')"
   ]
  },
  {
   "attachments": {},
   "cell_type": "markdown",
   "metadata": {},
   "source": [
    "Cantidad de películas por plataforma con un puntaje mayor a XX en determinado año (la función debe llamarse get_score_count(platform, scored, year))"
   ]
  },
  {
   "cell_type": "code",
   "execution_count": 9,
   "metadata": {},
   "outputs": [],
   "source": [
    "def get_score_count(platform:str, score:float, year:int):\n",
    "    # Filtramos el data frame 'movie_df' por plataforma y año\n",
    "    movie_df_filtro1 = movie_df[(movie_df['release_year']==year) & (movie_df['Plataforma']==platform)]\n",
    "    # Filtramos por score y asignamos la cantidad de peliculas a la variable 'cantidad'\n",
    "    cantidad = movie_df_filtro1[(movie_df_filtro1['score(prom)'] > score)].shape[0]\n",
    "    \n",
    "    return cantidad\n",
    "    "
   ]
  },
  {
   "cell_type": "code",
   "execution_count": 10,
   "metadata": {},
   "outputs": [
    {
     "data": {
      "text/plain": [
       "0"
      ]
     },
     "execution_count": 10,
     "metadata": {},
     "output_type": "execute_result"
    }
   ],
   "source": [
    "get_score_count('Disney',3000,2018)"
   ]
  },
  {
   "attachments": {},
   "cell_type": "markdown",
   "metadata": {},
   "source": [
    "Cantidad de películas por plataforma con filtro de PLATAFORMA. (La función debe llamarse get_count_platform(platform))"
   ]
  },
  {
   "cell_type": "code",
   "execution_count": 11,
   "metadata": {},
   "outputs": [],
   "source": [
    "def get_count_platform(platform:str):\n",
    "    cantidad_pelis = movie_df[movie_df['Plataforma'] == platform].shape[0]\n",
    "\n",
    "    return cantidad_pelis\n"
   ]
  },
  {
   "cell_type": "code",
   "execution_count": 12,
   "metadata": {},
   "outputs": [
    {
     "data": {
      "text/plain": [
       "9668"
      ]
     },
     "execution_count": 12,
     "metadata": {},
     "output_type": "execute_result"
    }
   ],
   "source": [
    "get_count_platform('Amazon')"
   ]
  },
  {
   "attachments": {},
   "cell_type": "markdown",
   "metadata": {},
   "source": [
    "Actor que más se repite según plataforma y año. (La función debe llamarse get_actor(platform, year))"
   ]
  },
  {
   "cell_type": "code",
   "execution_count": 13,
   "metadata": {},
   "outputs": [],
   "source": [
    "def get_actor(platform:str, year:int):\n",
    "    movie_df_filtro1 = movie_df[(movie_df['release_year']==year) & (movie_df['Plataforma']==platform)]\n",
    "    \n",
    "    l = movie_df_filtro1.shape[0] \n",
    "\n",
    "    lista_cast = []\n",
    "    for i in range(0,l):\n",
    "        lista = movie_df_filtro1['cast'].iloc[i].split(',')\n",
    "        for elemento in lista:\n",
    "            lista_cast.append(elemento)\n",
    "\n",
    "    actor = max(lista_cast, key=lista_cast.count) \n",
    "\n",
    "    return actor\n"
   ]
  },
  {
   "cell_type": "code",
   "execution_count": 14,
   "metadata": {},
   "outputs": [
    {
     "data": {
      "text/plain": [
       "' donald sutherland'"
      ]
     },
     "execution_count": 14,
     "metadata": {},
     "output_type": "execute_result"
    }
   ],
   "source": [
    "get_actor('Netflix',2000)"
   ]
  },
  {
   "attachments": {},
   "cell_type": "markdown",
   "metadata": {},
   "source": [
    "Todo parece funcionar ;)"
   ]
  }
 ],
 "metadata": {
  "kernelspec": {
   "display_name": "Python 3",
   "language": "python",
   "name": "python3"
  },
  "language_info": {
   "codemirror_mode": {
    "name": "ipython",
    "version": 3
   },
   "file_extension": ".py",
   "mimetype": "text/x-python",
   "name": "python",
   "nbconvert_exporter": "python",
   "pygments_lexer": "ipython3",
   "version": "3.9.7"
  },
  "orig_nbformat": 4
 },
 "nbformat": 4,
 "nbformat_minor": 2
}
